{
 "cells": [
  {
   "cell_type": "markdown",
   "metadata": {
    "slideshow": {
     "slide_type": "slide"
    }
   },
   "source": [
    "<img src=\"imagenes/logoLCC.jpg\" width=\"200\">\n",
    "<img src=\"imagenes/letragrama-rgb-150.jpg\" width=\"200\">\n",
    "\n",
    "# ¿Que es *Docker* y cómo se usa?\n",
    "\n",
    "## Taller de herramientas para *Big Data*\n",
    "\n",
    "### del 4 al 6 de marzo de 2019\n",
    "\n",
    "[Juan Pablo Soto]() y [Julio Waissman](http://mat.uson.mx/~juliowaissman/)"
   ]
  },
  {
   "cell_type": "code",
   "execution_count": null,
   "metadata": {},
   "outputs": [],
   "source": []
  }
 ],
 "metadata": {
  "celltoolbar": "Slideshow",
  "kernelspec": {
   "display_name": "Python 3",
   "language": "python",
   "name": "python3"
  },
  "language_info": {
   "codemirror_mode": {
    "name": "ipython",
    "version": 3
   },
   "file_extension": ".py",
   "mimetype": "text/x-python",
   "name": "python",
   "nbconvert_exporter": "python",
   "pygments_lexer": "ipython3",
   "version": "3.6.8"
  }
 },
 "nbformat": 4,
 "nbformat_minor": 2
}
