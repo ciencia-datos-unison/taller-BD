{
 "cells": [
  {
   "cell_type": "markdown",
   "metadata": {
    "slideshow": {
     "slide_type": "slide"
    }
   },
   "source": [
    "<img src=\"imagenes/logoLCC.jpg\" width=\"200\">\n",
    "<img src=\"imagenes/letragrama-rgb-150.jpg\" width=\"200\">\n",
    "\n",
    "## ¿Que es *Docker* y cómo se usa?\n",
    "\n",
    "### Taller de herramientas para *Big Data*\n",
    "\n",
    "#### del 4 al 6 de marzo de 2019\n",
    "\n",
    "[Juan Pablo Soto]() y [Julio Waissman](http://mat.uson.mx/~juliowaissman/)"
   ]
  },
  {
   "cell_type": "markdown",
   "metadata": {
    "slideshow": {
     "slide_type": "slide"
    }
   },
   "source": [
    "## ¿Que vamos a ver?\n",
    "\n",
    "1. ¿Que es un contenedor?\n",
    "2. Aspectos generales de *Docker*\n",
    "3. Instalación de *Docker CE*\n",
    "4. Uso básico de la CLI\n",
    "5. Como hacer una imágen propia (Dockerfile)\n"
   ]
  },
  {
   "cell_type": "markdown",
   "metadata": {
    "slideshow": {
     "slide_type": "slide"
    }
   },
   "source": [
    "## Integración continua\n",
    "\n",
    "![](imagenes/integ-continua.png)"
   ]
  },
  {
   "cell_type": "markdown",
   "metadata": {
    "slideshow": {
     "slide_type": "subslide"
    }
   },
   "source": [
    "## Motivación: Aplicaciones monolíticas\n",
    "\n",
    "1. Desarrollo lento\n",
    "\n",
    "2. Desperdicio de recursos\n",
    "\n",
    "3. Diferencias en desarrollo y producción\n",
    "\n",
    "4. Escala mal, dificil de migrar\n"
   ]
  },
  {
   "cell_type": "markdown",
   "metadata": {
    "slideshow": {
     "slide_type": "subslide"
    }
   },
   "source": [
    "## Solución: Máquinas virtuales\n",
    "\n",
    "<img src=\"imagenes/VM.png\" width=\"400\">\n",
    "\n",
    "Aislamiento, seguridad, portabilidad,... lento\n",
    "\n"
   ]
  },
  {
   "cell_type": "markdown",
   "metadata": {
    "slideshow": {
     "slide_type": "subslide"
    }
   },
   "source": [
    "## Solución: Contenedores\n",
    "\n",
    "<img src=\"imagenes/vm-c.png\" width=\"820\"> \n",
    "    \n",
    "Se pierde en aislamiento, se gana en flexibilidad\n"
   ]
  },
  {
   "cell_type": "markdown",
   "metadata": {
    "slideshow": {
     "slide_type": "subslide"
    }
   },
   "source": [
    "## Contenedores para desarrollo/producción\n",
    "\n",
    "<p><img src=\"imagenes/vm-c2.png\" width=\"820\"> \n",
    "    \n"
   ]
  },
  {
   "cell_type": "markdown",
   "metadata": {
    "slideshow": {
     "slide_type": "subslide"
    }
   },
   "source": [
    "## Contenedores para desarrollo/producción\n",
    "\n",
    "1. Mismas dependencias para todos los desarrolladores\n",
    "2. Cada proyecto tiene sus propias dependencias\n",
    "3. Mismo comportamiento en desarrollo y en producción\n",
    "4. Se configura una vez\n",
    "5. Se aislan aplicaciones en producción \n"
   ]
  },
  {
   "cell_type": "markdown",
   "metadata": {
    "slideshow": {
     "slide_type": "slide"
    }
   },
   "source": [
    "## Componentes bácicos de Docker\n",
    "\n",
    "<img src=\"imagenes/con-img.png\" width=\"700\">"
   ]
  },
  {
   "cell_type": "markdown",
   "metadata": {
    "slideshow": {
     "slide_type": "subslide"
    }
   },
   "source": [
    "## Arquitectura general de  Docker\n",
    "\n",
    "<img src=\"imagenes/daemon.png\" width=\"800\"> \n",
    " "
   ]
  },
  {
   "cell_type": "markdown",
   "metadata": {
    "slideshow": {
     "slide_type": "subslide"
    }
   },
   "source": [
    "## Otros componentes de Docker\n",
    "\n",
    "\n",
    "<img src=\"imagenes/dapps.png\" width=\"700\"> \n",
    "\n",
    "\n",
    "1. Dockerhub\n",
    "2. Docker machine\n",
    "3. Docker compose\n",
    "4. Docker swarm\n",
    "5. Docker stack"
   ]
  },
  {
   "cell_type": "markdown",
   "metadata": {
    "slideshow": {
     "slide_type": "slide"
    }
   },
   "source": [
    "## Instalemos Docker\n",
    "\n",
    "- Seguir el proceso de instalación dependiendo la plataforma:\n",
    "    - [Ubuntu](https://docs.docker.com/install/linux/docker-ce/ubuntu/) \n",
    "    - [CentOS](https://docs.docker.com/install/linux/docker-ce/centos/) \n",
    "    - [MacOS](https://docs.docker.com/docker-for-mac/install/) \n",
    "    - [Windows](https://docs.docker.com/docker-for-windows/install/) \n",
    "    \n",
    "En el material del taller hay una [página con instrucciones en español que cubre las versiones de Windows viejitas](https://ciencia-datos-unison.github.io/taller-BD/docker/instalacion.html)"
   ]
  },
  {
   "cell_type": "markdown",
   "metadata": {
    "slideshow": {
     "slide_type": "subslide"
    }
   },
   "source": [
    "## Para probar la instalación\n",
    "\n",
    "```sh\n",
    "$ docker version\n",
    "\n",
    "$ docker info\n",
    "\n",
    "$ docker run hello-world\n",
    "\n",
    "$ docker pull ubuntu\n",
    "\n",
    "$ docker run -it --rm --name mi_ubuntu ubuntu:latest\n",
    "```"
   ]
  },
  {
   "cell_type": "markdown",
   "metadata": {
    "slideshow": {
     "slide_type": "subslide"
    }
   },
   "source": [
    "## Línea de comandos de Unix (CLI)\n",
    "\n",
    "Para sacar provecho de *Docker* es deseable conocer las operaciones más básicas de linea de comando\n",
    "\n",
    "- Comandos `ls`, `cp`, `mv`, `mkdir`, `pwd` y `rm` (uso básico)\n",
    "\n",
    "- El uso de `man`, `less` y saber leer la documentación con `--help`\n",
    "\n",
    "- Comandos básicos de `git` (`clone`, `pull`, `push`, `add`, `commit`)\n",
    "\n",
    "- Uso de al menos un editor en terminal (`vi`, `emacs`, `jed` o `nano`)\n",
    "\n",
    "- Saber que existen los archivos ocultos `.XXXXXX` y de configuración `.XXXrc`\n"
   ]
  }
 ],
 "metadata": {
  "celltoolbar": "Slideshow",
  "kernelspec": {
   "display_name": "Python 3",
   "language": "python",
   "name": "python3"
  },
  "language_info": {
   "codemirror_mode": {
    "name": "ipython",
    "version": 3
   },
   "file_extension": ".py",
   "mimetype": "text/x-python",
   "name": "python",
   "nbconvert_exporter": "python",
   "pygments_lexer": "ipython3",
   "version": "3.6.8"
  }
 },
 "nbformat": 4,
 "nbformat_minor": 2
}
