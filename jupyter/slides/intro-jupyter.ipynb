{
 "cells": [
  {
   "cell_type": "markdown",
   "metadata": {
    "nbpresent": {
     "id": "d6c34227-ffbc-4a95-b0be-917320458616"
    },
    "slideshow": {
     "slide_type": "slide"
    }
   },
   "source": [
    "<img src=\"imagenes/logoLCC.jpg\" width=\"200\">\n",
    "<img src=\"imagenes/letragrama-rgb-150.jpg\" width=\"200\">\n",
    "\n",
    "## Introducción a Jupyter\n",
    "\n",
    "### Taller de herramientas para *Big Data*\n",
    "\n",
    "#### del 4 al 6 de marzo de 2019\n",
    "\n",
    "[Juan Pablo Soto]() y [Julio Waissman](http://mat.uson.mx/~juliowaissman/)"
   ]
  },
  {
   "cell_type": "markdown",
   "metadata": {
    "nbpresent": {
     "id": "52f4aa72-684c-4b39-adb8-09a8ccc3a19d"
    },
    "slideshow": {
     "slide_type": "slide"
    }
   },
   "source": [
    "<img src=\"imagenes/jupyter.png\" width=\"200\">\n",
    "\n",
    "# ¿Que es Jupyter?\n",
    "\n",
    "- Un entrono de *computación interactiva* atractivo\n",
    "\n",
    "- Un entrono de [*literate programming*](https://en.wikipedia.org/wiki/Literate_programming) en python\n",
    "\n",
    "- Un entrono para [*investigación reproducible*](https://reproducibleresearch.net)\n",
    "\n",
    "- Una forma de generar tutoriales y material de autoaprendizaje amigables\n"
   ]
  },
  {
   "cell_type": "markdown",
   "metadata": {
    "nbpresent": {
     "id": "a99de61b-c6a3-4a34-ba95-eaa2c35f8a2b"
    },
    "slideshow": {
     "slide_type": "subslide"
    }
   },
   "source": [
    "# Historia\n",
    "\n",
    "- Primera versión en diciembre 2011 como un método de libretas para *Ipython*.\n",
    "\n",
    "- Inició como una versión para python de las libretas de *Mathematica*\n",
    "\n",
    "- La arquitectura desarrollada permitió su uso más allá de *python*\n",
    "\n",
    "- En 2014 se separan como proyecto independiente bajo el nombre de **Jupyter**"
   ]
  },
  {
   "cell_type": "markdown",
   "metadata": {
    "nbpresent": {
     "id": "821e7efe-97c6-4fbd-a09f-7eb5ff372ced"
    },
    "slideshow": {
     "slide_type": "subslide"
    }
   },
   "source": [
    "# Estructura de una libreta\n",
    "\n",
    "\n",
    "- Se basa en el concepto de *celdas*\n",
    "\n",
    "- Las celdas pueden ser de *código* o *texto*\n",
    "\n",
    "- Las celdas de texto se realiza en *Markdown*\n",
    "    \n",
    "    - *Markdown* con sabor de *Github*\n",
    "    \n",
    "    - Incluye *MathJax*\n",
    "\n",
    "- Las celdas de código se ejecutan en el orden solicitado en forma asíncrona\n",
    "\n",
    "- El sistema guarda memoria de lo ejecutado"
   ]
  },
  {
   "cell_type": "markdown",
   "metadata": {
    "nbpresent": {
     "id": "55d7a4d4-3c50-4794-9dbc-353a5787f14e"
    },
    "slideshow": {
     "slide_type": "subslide"
    }
   },
   "source": [
    "# Arquitectura del sistema\n",
    "\n",
    "\n",
    "- Aplicación cliente-servidor \n",
    "\n",
    "- El cliente interactúa a través de un navegador\n",
    "\n",
    "- El servidor se compone de *Kernel* y *dashboard*\n",
    "\n",
    "    - El *Kernel* ejecuta el codigo de las celdas\n",
    "    \n",
    "    - El *dashboard* se encarga de la visualización y las celdas de texto."
   ]
  },
  {
   "cell_type": "markdown",
   "metadata": {
    "nbpresent": {
     "id": "e26a2a06-262e-4114-bd74-baac53965764"
    },
    "slideshow": {
     "slide_type": "slide"
    }
   },
   "source": [
    "# ¿Que se requiere para poder utilizar Jupyter?\n",
    "\n",
    "\n",
    "- Python instalado (de preferencia *Anaconda*)\n",
    "\n",
    "    - Se requieren varias bibliotecas especializadas\n",
    "    - Se basa en *Ipython* y *tornado* principalmente\n",
    "    \n",
    "- Al menos un kernel instalado (i.e. *Ipython*)\n",
    "\n",
    "    - Python, R y/o Julia como nativos y con soporte oficial\n",
    "    \n",
    "    - [Kernel para muchos lenguajes desarrollados por la comunidad](https://github.com/jupyter/jupyter/wiki/Jupyter-kernels)\n"
   ]
  },
  {
   "cell_type": "markdown",
   "metadata": {
    "nbpresent": {
     "id": "e25eeb1d-8290-464a-9cf5-ec4659ccbcec"
    },
    "slideshow": {
     "slide_type": "slide"
    }
   },
   "source": [
    "# Comenzamos con Python\n",
    "\n",
    "\n",
    "Empezamos por cargar algunas librerías básicas"
   ]
  },
  {
   "cell_type": "code",
   "execution_count": 1,
   "metadata": {
    "nbpresent": {
     "id": "bd2da93c-212e-46a8-8087-a41c45f01990"
    },
    "slideshow": {
     "slide_type": "-"
    }
   },
   "outputs": [],
   "source": [
    "%matplotlib inline\n",
    "import numpy as np\n",
    "import matplotlib.pyplot as plt\n",
    "\n",
    "plt.rcParams['figure.figsize'] = (20,8)\n",
    "plt.style.use('ggplot')"
   ]
  },
  {
   "cell_type": "markdown",
   "metadata": {
    "nbpresent": {
     "id": "1869922a-a074-4d60-bb5c-2ebb0c81d199"
    },
    "slideshow": {
     "slide_type": "slide"
    }
   },
   "source": [
    "# Probemos con un código sencillo\n"
   ]
  },
  {
   "cell_type": "code",
   "execution_count": 3,
   "metadata": {
    "nbpresent": {
     "id": "801c6142-fc4b-48c5-ab64-67386b059838"
    }
   },
   "outputs": [],
   "source": [
    "x = np.linspace(-np.pi, np.pi, 100)\n",
    "y1 = np.sin(x)\n",
    "y2 = np.cos(x)"
   ]
  },
  {
   "cell_type": "markdown",
   "metadata": {
    "nbpresent": {
     "id": "5a3f3830-7873-481f-bb1c-4a746d495771"
    },
    "slideshow": {
     "slide_type": "subslide"
    }
   },
   "source": [
    "# Todo se queda en memoria\n",
    "\n",
    "mientras no se reinicie el kernel\n"
   ]
  },
  {
   "cell_type": "code",
   "execution_count": 5,
   "metadata": {
    "nbpresent": {
     "id": "3a281208-0fc5-4e37-9d30-ab29516ab6a1"
    },
    "slideshow": {
     "slide_type": "-"
    }
   },
   "outputs": [
    {
     "data": {
      "image/png": "[encoded data removed]",
      "text/plain": [
       "<Figure size 432x288 with 1 Axes>"
      ]
     },
     "metadata": {
      "needs_background": "light"
     },
     "output_type": "display_data"
    }
   ],
   "source": [
    "plt.plot(x, y1, label='sen(x)')\n",
    "plt.plot(x, y2, label='cos(x)')\n",
    "plt.title('Funciones de ejemplo')\n",
    "plt.xlabel('x')\n",
    "plt.ylabel('f(x)')\n",
    "plt.legend()\n",
    "plt.show()"
   ]
  },
  {
   "cell_type": "markdown",
   "metadata": {
    "nbpresent": {
     "id": "b62ccfc5-797c-4760-80d2-fb68b9dd357e"
    },
    "slideshow": {
     "slide_type": "slide"
    }
   },
   "source": [
    "# Vamos por partes\n",
    "\n",
    "\n",
    "- ¿Qué puedo agregar en las celdas de texto?\n",
    "\n",
    "- ¿Qué puedo agregar en la celdas de código (aparte de código, por supuesto)?\n",
    "\n",
    "- ¿Cómo puedo cambiar el Kernel para usar otro lenguaje de programación?"
   ]
  },
  {
   "cell_type": "markdown",
   "metadata": {
    "nbpresent": {
     "id": "4951015f-694d-4dd4-acf1-5d85b29bbb76"
    },
    "slideshow": {
     "slide_type": "slide"
    }
   },
   "source": [
    "# Celdas de texto\n",
    "\n",
    "\n",
    "- Todo es [Markdown](https://en.wikipedia.org/wiki/Markdown)\n",
    "\n",
    "- Una buena referencia rápida la puedes consultar [aquí](https://github.com/adam-p/markdown-here/wiki/Markdown-Cheatsheet)"
   ]
  },
  {
   "cell_type": "markdown",
   "metadata": {
    "nbpresent": {
     "id": "b160551a-9571-4225-bc46-5621ecc7a85f"
    },
    "slideshow": {
     "slide_type": "subslide"
    }
   },
   "source": [
    "# Insertar imágenes\n",
    "\n",
    "\n",
    "- Lo más fácil es:\n",
    "  ```md\n",
    "  ![texto](imagenes/jupyter.png)\n",
    "  ```\n",
    "\n",
    "- Pero muchas veces es más conveniente\n",
    "  ```html\n",
    "  <img src=\"imagenes/jupyter.png\" width=\"70\">\n",
    "  ```\n"
   ]
  },
  {
   "cell_type": "markdown",
   "metadata": {
    "nbpresent": {
     "id": "61e601ba-78de-4285-a57e-16dc17e0511e"
    },
    "slideshow": {
     "slide_type": "fragment"
    }
   },
   "source": [
    "![texto](imagenes/jupyter.png)\n",
    "<img src=\"imagenes/jupyter.png\" width=\"70\">"
   ]
  },
  {
   "cell_type": "markdown",
   "metadata": {
    "nbpresent": {
     "id": "41d4a4a9-2d81-465f-9424-ebcd64951a3c"
    },
    "slideshow": {
     "slide_type": "subslide"
    }
   },
   "source": [
    "# Cuadros\n",
    "\n",
    "- Debe haber al menos trés lineas para marcar una separación\n",
    "- Los delimitadores externos son opcionales\n",
    "\n",
    "```md\n",
    "| Col 1         | Col 2         | Col 3  |\n",
    "| ------------- |:-------------:| ------:|\n",
    "| Esta          | Esta          | \\$1600 |\n",
    "| columna       | se encuentra  |   \\$12 |\n",
    "| a la derecha  | centrada      |    \\$1 |\n",
    "\n",
    "\n",
    "Markdown | bien | feo\n",
    "---|---|---\n",
    "*No se ve muy bien* | ~el código~ | **pero genera un cuadro decente**\n",
    "1 | 2 | 3\n",
    "```"
   ]
  },
  {
   "cell_type": "markdown",
   "metadata": {
    "nbpresent": {
     "id": "eb6dd74c-8e5f-4127-b428-1eca223879ed"
    },
    "slideshow": {
     "slide_type": "fragment"
    }
   },
   "source": [
    "| Col 1         | Col 2         | Col 3  |\n",
    "| ------------- |:-------------:| ------:|\n",
    "| Esta          | Esta          | \\$1600 |\n",
    "| columna       | se encuentra  |   \\$12 |\n",
    "| a la derecha  | centrada      |    \\$1 |\n",
    "\n",
    "\n",
    "\n",
    "Markdown | bien | feo\n",
    "---|---|---\n",
    "*No se ve muy bien* | ~el código~ | **pero genera un cuadro decente**\n",
    "1 | 2 | 3"
   ]
  },
  {
   "cell_type": "markdown",
   "metadata": {
    "nbpresent": {
     "id": "17cefc2f-5c7a-4064-b96a-890513058725"
    },
    "slideshow": {
     "slide_type": "subslide"
    }
   },
   "source": [
    "# Notación matemática\n",
    "\n",
    "\n",
    "1. Jupyter usa por default [mathjax](https://www.mathjax.org)\n",
    "\n",
    "2. Las ecuaciones *en linea* van entre signos \\$ ecuación \\$\n",
    "\n",
    "3. Las ecuaciones en propia linea van entre \\$\\$ ecuación \\$\\$\n",
    "\n",
    "4. Utiliza la notación estandard de $\\LaTeX$\n",
    "\n",
    "5. Un buen lugar de consulta está [aquí](https://en.wikibooks.org/wiki/LaTeX/Mathematics)"
   ]
  },
  {
   "cell_type": "markdown",
   "metadata": {
    "nbpresent": {
     "id": "6d09bcdc-fff8-45d7-b1ae-eb5350bbe58e"
    },
    "slideshow": {
     "slide_type": "subslide"
    }
   },
   "source": [
    "# Algunas ecuaciones\n",
    "\n",
    "\n",
    "```tex\n",
    "Podemos escribr cosas tanto en linea como $\\forall x \\in X, \\quad \\exists y \\leq \\epsilon$ que es muy práctico para calculo 1. Igualmente, se pueden escribir cosas como $\\cos (2\\theta) = \\cos^2 \\theta - \\sin^2 \\theta$ que es útil en trigonometría. O tambien podemos escribir\n",
    "$$\n",
    "\\frac{n!}{k!(n-k)!} = \\binom{n}{k},\n",
    "$$\n",
    "\n",
    "$$\n",
    "P\\left(A=2\\middle|\\frac{A^2}{B}>4\\right) = \\int_0^\\infty \\mathrm{e}^{-x}\\,\\mathrm{d}x\n",
    "$$\n",
    "\n",
    "```"
   ]
  },
  {
   "cell_type": "markdown",
   "metadata": {
    "nbpresent": {
     "id": "05c7a8e3-fb92-4fd3-bed9-6c96e346a33f"
    },
    "slideshow": {
     "slide_type": "fragment"
    }
   },
   "source": [
    "Podemos escribr cosas tanto en linea como $\\forall x \\in X, \\quad \\exists y \\leq \\epsilon$\n",
    "que es muy práctico para calculo 1. Igualmente se pueden escribir cosas como $\\cos (2\\theta) = \\cos^2 \\theta - \\sin^2 \\theta$ que\n",
    "es útil en trigonometría. O tambien podemos escribir\n",
    "$$\n",
    "\\frac{n!}{k!(n-k)!} = \\binom{n}{k},\n",
    "$$\n",
    "\n",
    "$$\n",
    "P\\left(A=2\\middle|\\frac{A^2}{B}>4\\right) = \\int_0^\\infty \\mathrm{e}^{-x}\\,\\mathrm{d}x\n",
    "$$"
   ]
  },
  {
   "cell_type": "markdown",
   "metadata": {
    "nbpresent": {
     "id": "23045984-4ba2-4119-b008-2b77b546925d"
    },
    "slideshow": {
     "slide_type": "subslide"
    }
   },
   "source": [
    "# Ingresando código de ejemplo en el texto\n",
    "\n",
    "\n",
    "```\n",
    "```python\n",
    "def fibo(n):\n",
    "    def fibo_r(x, y, acc):\n",
    "        return y if acc < 2 else fibo_r(y, x + y, acc - 1)\n",
    "    return fibo_r(1, 1, n)\n",
    "`` `\n",
    "```\n",
    "\n",
    "lo que queda como\n",
    "\n",
    "```python\n",
    "def fibo(n):\n",
    "    def fibo_r(x, y, acc):\n",
    "        return y if acc < 2 else fibo_r(y, x + y, acc - 1)\n",
    "    return fibo_r(1, 1, n)\n",
    "```\n",
    "\n"
   ]
  },
  {
   "cell_type": "markdown",
   "metadata": {
    "nbpresent": {
     "id": "35c0b4f8-a87f-421e-9482-cff621cc592a"
    },
    "slideshow": {
     "slide_type": "slide"
    }
   },
   "source": [
    "# Celdas de código\n",
    "\n",
    "- Comandos [*mágicos* de Jupyter](http://ipython.readthedocs.io/en/stable/interactive/magics.html) \n",
    "\n",
    "- Código ejecutado por el *Kernel* "
   ]
  },
  {
   "cell_type": "markdown",
   "metadata": {
    "nbpresent": {
     "id": "d31f4065-e86e-44c8-ae1e-7488029366d8"
    },
    "slideshow": {
     "slide_type": "subslide"
    }
   },
   "source": [
    "# Comandos mágicos\n",
    "\n",
    "- Jupyter tiene una serie de *comandos mágicos*, \n",
    "\n",
    "- Todos empiezan con '%'.\n",
    "\n",
    "- Todos son específicos a Python\n",
    "\n",
    "Para probar, ejecuta en una casilla lo siguiente\n",
    "```\n",
    "%quickref\n",
    "%lsmagic\n",
    "```"
   ]
  },
  {
   "cell_type": "code",
   "execution_count": 11,
   "metadata": {
    "nbpresent": {
     "id": "8a35d671-7d1b-4014-ba9f-ab56f660850a"
    },
    "slideshow": {
     "slide_type": "subslide"
    }
   },
   "outputs": [
    {
     "data": {
      "application/json": {
       "cell": {
        "!": "OSMagics",
        "HTML": "Other",
        "SVG": "Other",
        "bash": "Other",
        "capture": "ExecutionMagics",
        "debug": "ExecutionMagics",
        "file": "Other",
        "html": "DisplayMagics",
        "javascript": "DisplayMagics",
        "js": "DisplayMagics",
        "latex": "DisplayMagics",
        "markdown": "DisplayMagics",
        "perl": "Other",
        "prun": "ExecutionMagics",
        "pypy": "Other",
        "python": "Other",
        "python2": "Other",
        "python3": "Other",
        "ruby": "Other",
        "script": "ScriptMagics",
        "sh": "Other",
        "svg": "DisplayMagics",
        "sx": "OSMagics",
        "system": "OSMagics",
        "time": "ExecutionMagics",
        "timeit": "ExecutionMagics",
        "writefile": "OSMagics"
       },
       "line": {
        "alias": "OSMagics",
        "alias_magic": "BasicMagics",
        "autocall": "AutoMagics",
        "automagic": "AutoMagics",
        "autosave": "KernelMagics",
        "bookmark": "OSMagics",
        "cat": "Other",
        "cd": "OSMagics",
        "clear": "KernelMagics",
        "colors": "BasicMagics",
        "config": "ConfigMagics",
        "connect_info": "KernelMagics",
        "cp": "Other",
        "debug": "ExecutionMagics",
        "dhist": "OSMagics",
        "dirs": "OSMagics",
        "doctest_mode": "BasicMagics",
        "ed": "Other",
        "edit": "KernelMagics",
        "env": "OSMagics",
        "gui": "BasicMagics",
        "hist": "Other",
        "history": "HistoryMagics",
        "killbgscripts": "ScriptMagics",
        "ldir": "Other",
        "less": "KernelMagics",
        "lf": "Other",
        "lk": "Other",
        "ll": "Other",
        "load": "CodeMagics",
        "load_ext": "ExtensionMagics",
        "loadpy": "CodeMagics",
        "logoff": "LoggingMagics",
        "logon": "LoggingMagics",
        "logstart": "LoggingMagics",
        "logstate": "LoggingMagics",
        "logstop": "LoggingMagics",
        "ls": "Other",
        "lsmagic": "BasicMagics",
        "lx": "Other",
        "macro": "ExecutionMagics",
        "magic": "BasicMagics",
        "man": "KernelMagics",
        "matplotlib": "PylabMagics",
        "mkdir": "Other",
        "more": "KernelMagics",
        "mv": "Other",
        "notebook": "BasicMagics",
        "page": "BasicMagics",
        "pastebin": "CodeMagics",
        "pdb": "ExecutionMagics",
        "pdef": "NamespaceMagics",
        "pdoc": "NamespaceMagics",
        "pfile": "NamespaceMagics",
        "pinfo": "NamespaceMagics",
        "pinfo2": "NamespaceMagics",
        "pip": "BasicMagics",
        "popd": "OSMagics",
        "pprint": "BasicMagics",
        "precision": "BasicMagics",
        "profile": "BasicMagics",
        "prun": "ExecutionMagics",
        "psearch": "NamespaceMagics",
        "psource": "NamespaceMagics",
        "pushd": "OSMagics",
        "pwd": "OSMagics",
        "pycat": "OSMagics",
        "pylab": "PylabMagics",
        "qtconsole": "KernelMagics",
        "quickref": "BasicMagics",
        "recall": "HistoryMagics",
        "rehashx": "OSMagics",
        "reload_ext": "ExtensionMagics",
        "rep": "Other",
        "rerun": "HistoryMagics",
        "reset": "NamespaceMagics",
        "reset_selective": "NamespaceMagics",
        "rm": "Other",
        "rmdir": "Other",
        "run": "ExecutionMagics",
        "save": "CodeMagics",
        "sc": "OSMagics",
        "set_env": "OSMagics",
        "store": "StoreMagics",
        "sx": "OSMagics",
        "system": "OSMagics",
        "tb": "ExecutionMagics",
        "time": "ExecutionMagics",
        "timeit": "ExecutionMagics",
        "unalias": "OSMagics",
        "unload_ext": "ExtensionMagics",
        "who": "NamespaceMagics",
        "who_ls": "NamespaceMagics",
        "whos": "NamespaceMagics",
        "xdel": "NamespaceMagics",
        "xmode": "BasicMagics"
       }
      },
      "text/plain": [
       "Available line magics:\n",
       "%alias  %alias_magic  %autocall  %automagic  %autosave  %bookmark  %cat  %cd  %clear  %colors  %config  %connect_info  %cp  %debug  %dhist  %dirs  %doctest_mode  %ed  %edit  %env  %gui  %hist  %history  %killbgscripts  %ldir  %less  %lf  %lk  %ll  %load  %load_ext  %loadpy  %logoff  %logon  %logstart  %logstate  %logstop  %ls  %lsmagic  %lx  %macro  %magic  %man  %matplotlib  %mkdir  %more  %mv  %notebook  %page  %pastebin  %pdb  %pdef  %pdoc  %pfile  %pinfo  %pinfo2  %popd  %pprint  %precision  %profile  %prun  %psearch  %psource  %pushd  %pwd  %pycat  %pylab  %qtconsole  %quickref  %recall  %rehashx  %reload_ext  %rep  %rerun  %reset  %reset_selective  %rm  %rmdir  %run  %save  %sc  %set_env  %store  %sx  %system  %tb  %time  %timeit  %unalias  %unload_ext  %who  %who_ls  %whos  %xdel  %xmode\n",
       "\n",
       "Available cell magics:\n",
       "%%!  %%HTML  %%SVG  %%bash  %%capture  %%debug  %%file  %%html  %%javascript  %%js  %%latex  %%markdown  %%perl  %%prun  %%pypy  %%python  %%python2  %%python3  %%ruby  %%script  %%sh  %%svg  %%sx  %%system  %%time  %%timeit  %%writefile\n",
       "\n",
       "Automagic is ON, % prefix IS NOT needed for line magics."
      ]
     },
     "execution_count": 11,
     "metadata": {},
     "output_type": "execute_result"
    }
   ],
   "source": [
    "%lsmagic"
   ]
  },
  {
   "cell_type": "code",
   "execution_count": 12,
   "metadata": {
    "nbpresent": {
     "id": "8cbf18b0-2474-4840-b9b0-6955add80699"
    },
    "slideshow": {
     "slide_type": "subslide"
    }
   },
   "outputs": [
    {
     "data": {
      "text/plain": [
       "5"
      ]
     },
     "metadata": {},
     "output_type": "display_data"
    },
    {
     "data": {
      "text/plain": [
       "10946"
      ]
     },
     "metadata": {},
     "output_type": "display_data"
    },
    {
     "name": "stdout",
     "output_type": "stream",
     "text": [
      "4.34 µs ± 96.7 ns per loop (mean ± std. dev. of 7 runs, 100000 loops each)\n"
     ]
    }
   ],
   "source": [
    "def fibo(n):\n",
    "    def fibo_r(x, y, acc):\n",
    "        \n",
    "        return y if acc < 2 else fibo_r(y, x + y, acc - 1)\n",
    "    return fibo_r(1, 1, n)\n",
    "\n",
    "display(fibo(4))\n",
    "display(fibo(20))\n",
    "%timeit fibo(20)\n",
    "\n",
    "# ¿Y que pasa si ejecutas %prun fibo(200)?"
   ]
  },
  {
   "cell_type": "code",
   "execution_count": 13,
   "metadata": {
    "nbpresent": {
     "id": "328a1bf3-709d-4303-b052-be3462ca27ca"
    },
    "slideshow": {
     "slide_type": "subslide"
    }
   },
   "outputs": [
    {
     "name": "stdout",
     "output_type": "stream",
     "text": [
      "/Users/juliowaissman/anaconda/bin/python\n",
      "LICENSE                     jupyter_basico.ipynb\n",
      "README.md                   jupyter_basico.slides.html\n",
      "\u001b[1m\u001b[36mimagenes\u001b[m\u001b[m/                   \u001b[31mpublish.sh\u001b[m\u001b[m*\n",
      "index.html                  \u001b[1m\u001b[36mreveal.js\u001b[m\u001b[m/\n"
     ]
    },
    {
     "data": {
      "text/plain": [
       "'/Users/juliowaissman/Documents/cursos/Capacitacion/jupyter-intro'"
      ]
     },
     "execution_count": 13,
     "metadata": {},
     "output_type": "execute_result"
    }
   ],
   "source": [
    "# Comandos mágicos que mandan llamar al shell \n",
    "!which python\n",
    "\n",
    "%ls\n",
    "\n",
    "%pwd"
   ]
  },
  {
   "cell_type": "markdown",
   "metadata": {
    "nbpresent": {
     "id": "e87e1440-8d9f-4a45-bd5f-4d87d75b2882"
    },
    "slideshow": {
     "slide_type": "subslide"
    }
   },
   "source": [
    "# Tambien existe la biblioteca de Ipython"
   ]
  },
  {
   "cell_type": "code",
   "execution_count": 6,
   "metadata": {
    "nbpresent": {
     "id": "412a294b-dc46-4398-b746-3abc79996108"
    }
   },
   "outputs": [
    {
     "data": {
      "image/jpeg": "[encoded data removed]",
      "text/html": [
       "\n",
       "        <iframe\n",
       "            width=\"400\"\n",
       "            height=\"300\"\n",
       "            src=\"https://www.youtube.com/embed/1j_HxD4iLn8\"\n",
       "            frameborder=\"0\"\n",
       "            allowfullscreen\n",
       "        ></iframe>\n",
       "        "
      ],
      "text/plain": [
       "<IPython.lib.display.YouTubeVideo at 0x101fb6978>"
      ]
     },
     "execution_count": 6,
     "metadata": {},
     "output_type": "execute_result"
    }
   ],
   "source": [
    "from IPython.display import YouTubeVideo\n",
    "# a talk about IPython at Sage Days at U. Washington, Seattle.\n",
    "# Video credit: William Stein.\n",
    "YouTubeVideo('1j_HxD4iLn8')"
   ]
  },
  {
   "cell_type": "markdown",
   "metadata": {
    "nbpresent": {
     "id": "27f448db-e525-43b8-b909-5f4c6b99408b"
    },
    "slideshow": {
     "slide_type": "subslide"
    }
   },
   "source": [
    "# ¿Y el código?\n",
    "\n",
    "- Depende de lo que quieras hacer. \n",
    "\n",
    "- Se puede hacer uso intensivo del autocompletado\n",
    "\n",
    "- Igualmente, se tiene la documentación de todas las funciones\n",
    "\n",
    "- Prácticamente todo lo que se hace en python funciona en Jupyter,\n",
    "  sin embargo, se usa principalmente con:\n",
    "  \n",
    "  - [`numpy` y `matplotlib`](https://nbviewer.jupyter.org/github/IA-UNISON/IA-UNISON.github.io/blob/master/assets/docs/intro_numpy.ipynb)\n",
    "  \n",
    "  - [`pandas`](https://nbviewer.jupyter.org/github/IA-UNISON/IA-UNISON.github.io/blob/master/assets/docs/intro_pandas.ipynb)"
   ]
  },
  {
   "cell_type": "markdown",
   "metadata": {
    "nbpresent": {
     "id": "06ada5a0-09c7-4b18-9a3f-5494ce6c6547"
    },
    "slideshow": {
     "slide_type": "subslide"
    }
   },
   "source": [
    "# ¿Y si quiero ejecutar y guardar mis libretas en linea?\n",
    "\n",
    "\n",
    "Dos opciones:\n",
    "\n",
    "\n",
    "- [Colab](https://colab.research.google.com). Libre, pero de *Google* (se usa desde *drive*)\n",
    "\n",
    "    - Ejemplo de [introducción a pandas](https://colab.research.google.com/notebooks/mlcc/intro_to_pandas.ipynb?hl=es)\n",
    "\n",
    "- [Binder](https://mybinder.org). Libre pero en etapa *Beta* y algo tardado (se usa desde *github*). No siepre funciona con las bibliotecas que se consideran de *base*.\n"
   ]
  },
  {
   "cell_type": "markdown",
   "metadata": {
    "nbpresent": {
     "id": "f5d991e7-88d1-40c7-8adf-d0b5025a7369"
    },
    "slideshow": {
     "slide_type": "slide"
    }
   },
   "source": [
    "# Agregando otros Kernels a Jupyter\n",
    "\n",
    "\n",
    "- El nombre viene de **Ju**lia, **pyt**hon y **R**.\n",
    "\n",
    "- Instalar *R*, y **desde R en la terminal**:\n",
    "   ```r\n",
    "   install.packages(c('repr', 'IRdisplay', 'evaluate', 'crayon', \n",
    "                      'pbdZMQ', 'devtools', 'uuid', 'digest'))\n",
    "   devtools::install_github('IRkernel/IRkernel')\n",
    "   IRkernel::installspec()\n",
    "   ```\n",
    "\n",
    "- Instalar *Julia*, y luego ejecutar dentro del *repl* de *Julia*\n",
    "   ```julia\n",
    "   Pkg.add(\"IJulia\")\n",
    "   ```\n"
   ]
  },
  {
   "cell_type": "markdown",
   "metadata": {
    "nbpresent": {
     "id": "c6c5a328-26ef-4f21-ac54-11bdeff553ca"
    },
    "slideshow": {
     "slide_type": "subslide"
    }
   },
   "source": [
    "# ¿Y si quiero agregar un interprete de C++?\n",
    "\n",
    "\n",
    "- Necesito tener instalado Jupyter a través de la distribución [Anaconda](https://www.anaconda.com/distribution/)\n",
    "\n",
    "- Usar el *interprete* (basado en python) [Xeus-cling](https://github.com/QuantStack/xeus-cling)\n"
   ]
  },
  {
   "cell_type": "markdown",
   "metadata": {
    "nbpresent": {
     "id": "3a0e50b3-45dc-4e71-b464-4699e835ba2d"
    },
    "slideshow": {
     "slide_type": "fragment"
    }
   },
   "source": [
    "Para instalar, desde la consola:\n",
    "\n",
    "```bash\n",
    "$ conda create -n cling\n",
    "$ source activate cling\n",
    "$ conda install xeus-cling notebook -c QuantStack -c conda-forge\n",
    "$ source deactivate\n",
    "```"
   ]
  },
  {
   "cell_type": "markdown",
   "metadata": {
    "nbpresent": {
     "id": "73e45caa-c467-4f93-bf99-188b88947e5f"
    },
    "slideshow": {
     "slide_type": "fragment"
    }
   },
   "source": [
    "Para probar\n",
    "\n",
    "```bash\n",
    "$ source activate cling\n",
    "$ jupyter notebook\n",
    "```"
   ]
  },
  {
   "cell_type": "markdown",
   "metadata": {
    "nbpresent": {
     "id": "789bd196-180c-4391-80e8-ba12cb34babb"
    },
    "slideshow": {
     "slide_type": "slide"
    }
   },
   "source": [
    "# ¿Y si quiero hacer una presentación en Jupyter?\n",
    "\n",
    "\n",
    "- Habilitar la edición de diapositivas en el menú (View -> Cell Toolbar -> Slideshow)\n",
    "\n",
    "- Seleccionar el tipo de diapositiva:\n",
    "\n",
    "    - `Slide` Transparencia a la derecha\n",
    "    \n",
    "    - `Subslide` Transparencia hacia abajo\n",
    "    \n",
    "    - `Fragment` Para completar la transparencia paso a paso\n",
    "    \n",
    "    - `-` Para continuar con la transparencia\n",
    "        "
   ]
  },
  {
   "cell_type": "markdown",
   "metadata": {
    "nbpresent": {
     "id": "d22335f4-4bf4-4093-ab54-d1a5bd8875da"
    },
    "slideshow": {
     "slide_type": "skip"
    }
   },
   "source": [
    "# ¿Y para que parezca presentación?\n",
    "\n",
    "Utilizar [reveal.js](https://github.com/hakimel/reveal.js) ya sea descargandolo físicamente o utilizandolo en linea \n",
    "\n",
    "\n",
    "- Opción 1: Descargando una versión local de `reveal.js`:\n",
    "\n",
    "```bash\n",
    "$ jupyter-nbconvert --to slides libreta.ipynb --reveal-prefix=reveal.js\n",
    "```\n",
    "\n",
    "- Opción 2: Usando la localización original de `reveal.js` (preferida):\n",
    "\n",
    "```bash\n",
    "$ jupyter-nbconvert --to slides libreta.ipynb --reveal-prefix=\"https://cdnjs.cloudflare.com/ajax/libs/reveal.js/3.1.0\"\n",
    "```\n",
    "\n",
    "\n",
    "- Abrir `libreta.slides.html` en el navegador."
   ]
  },
  {
   "cell_type": "markdown",
   "metadata": {
    "slideshow": {
     "slide_type": "slide"
    }
   },
   "source": [
    "# Y esto es todo por el momento...\n",
    "\n",
    "![Muchas gracias por su atencion](imagenes/adios.jpg)\n",
    "\n",
    "### *Muchas gracias por su atención*\n",
    "\n"
   ]
  }
 ],
 "metadata": {
  "celltoolbar": "Slideshow",
  "kernelspec": {
   "display_name": "Python [default]",
   "language": "python",
   "name": "python3"
  },
  "language_info": {
   "codemirror_mode": {
    "name": "ipython",
    "version": 3
   },
   "file_extension": ".py",
   "mimetype": "text/x-python",
   "name": "python",
   "nbconvert_exporter": "python",
   "pygments_lexer": "ipython3",
   "version": "3.6.7"
  }
 },
 "nbformat": 4,
 "nbformat_minor": 2
}
